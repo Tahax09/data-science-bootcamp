{
 "cells": [
  {
   "cell_type": "markdown",
   "metadata": {},
   "source": [
    "## Bayesian machine learning "
   ]
  },
  {
   "cell_type": "markdown",
   "metadata": {},
   "source": [
    "## Infer coin bias"
   ]
  },
  {
   "cell_type": "code",
   "execution_count": 1,
   "metadata": {
    "collapsed": false
   },
   "outputs": [
    {
     "name": "stdout",
     "output_type": "stream",
     "text": [
      "\r",
      " [-----------------100%-----------------] 1000 of 1000 complete in 0.0 sec"
     ]
    },
    {
     "data": {
      "text/plain": [
       "0.81756653237067389"
      ]
     },
     "execution_count": 1,
     "metadata": {},
     "output_type": "execute_result"
    }
   ],
   "source": [
    "import pymc\n",
    "import numpy as np\n",
    "data = np.array([1, 1, 1, 1, 1, 1, 1, 0, 1])\n",
    "beta = pymc.Beta('beta', 1, 1)\n",
    "ber = pymc.Bernoulli('ber', beta, observed = True, value = data)\n",
    "\n",
    "mcmc = pymc.MCMC([beta, ber])\n",
    "mcmc.sample(1000, 500, 1)\n",
    "np.mean(mcmc.trace(\"beta\")[:])"
   ]
  },
  {
   "cell_type": "code",
   "execution_count": null,
   "metadata": {
    "collapsed": true
   },
   "outputs": [],
   "source": []
  }
 ],
 "metadata": {
  "kernelspec": {
   "display_name": "Python 3",
   "language": "python",
   "name": "python3"
  },
  "language_info": {
   "codemirror_mode": {
    "name": "ipython",
    "version": 3
   },
   "file_extension": ".py",
   "mimetype": "text/x-python",
   "name": "python",
   "nbconvert_exporter": "python",
   "pygments_lexer": "ipython3",
   "version": "3.4.3"
  }
 },
 "nbformat": 4,
 "nbformat_minor": 0
}
