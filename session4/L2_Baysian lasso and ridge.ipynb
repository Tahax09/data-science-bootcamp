{
 "cells": [
  {
   "cell_type": "markdown",
   "metadata": {},
   "source": [
    "## Baysian Ridge and Lasso regression"
   ]
  },
  {
   "cell_type": "code",
   "execution_count": 578,
   "metadata": {
    "collapsed": true
   },
   "outputs": [],
   "source": [
    "import matplotlib.pyplot as plt\n",
    "import numpy as np\n",
    "from scipy.stats import norm\n",
    "import pymc\n",
    "import sys\n",
    "\n",
    "%matplotlib inline"
   ]
  },
  {
   "cell_type": "code",
   "execution_count": 585,
   "metadata": {
    "collapsed": false
   },
   "outputs": [],
   "source": [
    "n = 10000\n",
    "\n",
    "x1 = norm.rvs(0, 1, size=n) + norm.rvs(0, 10**-3, size=n)\n",
    "x2 = -x1 + norm.rvs(0, 10**-3, size=n)\n",
    "x3 = norm.rvs(0, 1, size=n)\n",
    "\n",
    "X = np.column_stack([x1, x2, x3])\n",
    "y = 10 * x1 + 10 * x2 + 0.1 * x3"
   ]
  },
  {
   "cell_type": "markdown",
   "metadata": {},
   "source": [
    "### Exercise: implement ordinary least squares\n",
    "$$ \\beta = (X^{T}X)^{-1}X^{T}y $$"
   ]
  },
  {
   "cell_type": "code",
   "execution_count": 586,
   "metadata": {
    "collapsed": false
   },
   "outputs": [
    {
     "data": {
      "text/plain": [
       "array([10. , 10. ,  0.1])"
      ]
     },
     "execution_count": 586,
     "metadata": {},
     "output_type": "execute_result"
    }
   ],
   "source": [
    "#your code here\n",
    "np.dot(np.dot(np.linalg.inv(np.dot(X.T, X)), X.T), y)"
   ]
  },
  {
   "cell_type": "markdown",
   "metadata": {},
   "source": [
    "### Bayesian ordinary least squares"
   ]
  },
  {
   "cell_type": "code",
   "execution_count": 587,
   "metadata": {
    "collapsed": false
   },
   "outputs": [
    {
     "data": {
      "text/plain": [
       "[{'beta1': array(9.999992647027748)},\n",
       " {'beta3': array(0.09999999949981003)},\n",
       " {'beta2': array(9.999992647143856)}]"
      ]
     },
     "execution_count": 587,
     "metadata": {},
     "output_type": "execute_result"
    }
   ],
   "source": [
    "beta_min = -10**6\n",
    "beta_max = 10**6\n",
    "\n",
    "beta1_ols = pymc.Uniform(name='beta1', lower=beta_min, upper=beta_max)\n",
    "beta2_ols = pymc.Uniform(name='beta2', lower=beta_min, upper=beta_max)\n",
    "beta3_ols = pymc.Uniform(name='beta3', lower=beta_min, upper=beta_max)\n",
    "\n",
    "@pymc.deterministic\n",
    "def y_hat_ols(beta1=beta1_ols, beta2=beta2_ols, beta3=beta3_ols, x1=x1, x2=x2, x3=x3):\n",
    "    return beta1 * x1 + beta2 * x2 + beta3 * x3\n",
    "\n",
    "Y_ols = pymc.Normal(name='Y', mu=y_hat_ols, tau=1.0, value=y, observed=True)\n",
    "\n",
    "ols_model = pymc.Model([Y_ols, beta1_ols, beta2_ols, beta3_ols])\n",
    "ols_map = pymc.MAP(ols_model)\n",
    "ols_map.fit(method='fmin_l_bfgs_b', iterlim=100000, tol=.0001)\n",
    "\n",
    "def get_coefficients(map_):\n",
    "    return [{str(variable): variable.value} for variable in map_.variables if str(variable).startswith('beta')]\n",
    "\n",
    "get_coefficients(ols_map)"
   ]
  },
  {
   "cell_type": "markdown",
   "metadata": {},
   "source": [
    "### Exercise: bayesian ridge regression \n",
    "\n",
    "Note baysian ridge regression is constructed by assuming normal prior on betas, use $tau=1.0, mu=0$"
   ]
  },
  {
   "cell_type": "code",
   "execution_count": 588,
   "metadata": {
    "collapsed": false
   },
   "outputs": [],
   "source": [
    "#your code here\n",
    "\n",
    "tau = 1.0\n",
    "beta1_ridge = pymc.Normal('beta1', mu=0, tau=tau)\n",
    "beta2_ridge = pymc.Normal('beta2', mu=0, tau=tau)\n",
    "beta3_ridge = pymc.Normal('beta3', mu=0, tau=tau)\n",
    "\n",
    "@pymc.deterministic\n",
    "def y_hat_ridge(beta1=beta1_ridge, beta2=beta2_ridge, beta3=beta3_ridge, x1=x1, x2=x2, x3=x3):\n",
    "    return beta1 * x1 + beta2 * x2 + beta3 * x3\n",
    "\n",
    "Y_ridge = pymc.Normal('Y', mu=y_hat_ridge, tau=1.0, value=y, observed=True)\n",
    "\n",
    "ridge_model = pymc.Model([Y_ridge, beta1_ridge, beta2_ridge, beta3_ridge])\n",
    "ridge_map = pymc.MAP(ridge_model)\n",
    "ridge_map.fit(method='fmin_l_bfgs_b', iterlim=1000, tol=.0001)\n"
   ]
  },
  {
   "cell_type": "markdown",
   "metadata": {},
   "source": [
    "### compare to scikit learn "
   ]
  },
  {
   "cell_type": "code",
   "execution_count": 590,
   "metadata": {
    "collapsed": false
   },
   "outputs": [
    {
     "name": "stdout",
     "output_type": "stream",
     "text": [
      "scikit results\n",
      "[ 0.47753588  0.47747008  0.09998158]\n",
      "bayesian results\n",
      "[{'beta2': array(0.04986004809962333)}, {'beta3': array(0.09997146897270294)}, {'beta1': array(0.049928845398971244)}]\n"
     ]
    }
   ],
   "source": [
    "from sklearn.linear_model import RidgeCV\n",
    "\n",
    "skl_ridge_model = RidgeCV(fit_intercept=False)\n",
    "skl_ridge_model.fit(X, y)\n",
    "\n",
    "print (\"scikit results\")\n",
    "print (skl_ridge_model.coef_)\n",
    "print (\"bayesian results\")\n",
    "print (get_coefficients(ridge_map))"
   ]
  },
  {
   "cell_type": "markdown",
   "metadata": {},
   "source": [
    "### Exercise: bayesian lasso regression \n",
    "\n",
    "Note baysian lasso regression is constructed by assuming normal prior on betas, use $tau=1.0 * sqrt(2 * sigma), mu=0$"
   ]
  },
  {
   "cell_type": "code",
   "execution_count": 591,
   "metadata": {
    "collapsed": false
   },
   "outputs": [
    {
     "data": {
      "text/plain": [
       "[{'beta3': array(0.0994902103176779)},\n",
       " {'beta2': array(1.5699064750795007e-05)},\n",
       " {'beta1': array(1.4451544851713915e-05)}]"
      ]
     },
     "execution_count": 591,
     "metadata": {},
     "output_type": "execute_result"
    }
   ],
   "source": [
    "sigma = 1.0e1\n",
    "b =  np.sqrt(2.0 * sigma)\n",
    "\n",
    "beta1_lasso = pymc.Laplace('beta1', mu=0, tau=1.0 * b)\n",
    "beta2_lasso = pymc.Laplace('beta2', mu=0, tau=1.0 * b)\n",
    "beta3_lasso = pymc.Laplace('beta3', mu=0, tau=1.0 * b)\n",
    "\n",
    "@pymc.deterministic\n",
    "def y_hat_lasso(beta1=beta1_lasso, beta2=beta2_lasso, beta3=beta3_lasso, x1=x1, x2=x2, x3=x3):\n",
    "    return beta1 * x1 + beta2 * x2 + beta3 * x3\n",
    "\n",
    "Y_lasso = pymc.Normal('Y', mu=y_hat_lasso, tau=1.0, value=y, observed=True)\n",
    "\n",
    "lasso_model = pymc.Model([Y_lasso, beta1_lasso, beta2_lasso, beta3_lasso])\n",
    "lasso_map = pymc.MAP(lasso_model)\n",
    "lasso_map.fit(method='fmin_l_bfgs_b', iterlim=10000, tol=.0001)\n"
   ]
  },
  {
   "cell_type": "markdown",
   "metadata": {},
   "source": [
    "### Compare to scikit learn"
   ]
  },
  {
   "cell_type": "code",
   "execution_count": 593,
   "metadata": {
    "collapsed": false
   },
   "outputs": [
    {
     "name": "stdout",
     "output_type": "stream",
     "text": [
      "Scikit results\n",
      "[ 0.         -0.          0.09988218]\n",
      "Bayesian results\n"
     ]
    },
    {
     "data": {
      "text/plain": [
       "[{'beta3': array(0.0994902103176779)},\n",
       " {'beta2': array(1.5699064750795007e-05)},\n",
       " {'beta1': array(1.4451544851713915e-05)}]"
      ]
     },
     "execution_count": 593,
     "metadata": {},
     "output_type": "execute_result"
    }
   ],
   "source": [
    "from sklearn.linear_model import LassoCV\n",
    "\n",
    "skl_lasso_model = LassoCV(fit_intercept=False)\n",
    "skl_lasso_model.fit(X, y)\n",
    "\n",
    "print (\"Scikit results\")\n",
    "print (skl_lasso_model.coef_)\n",
    "\n",
    "print (\"Bayesian results\")\n",
    "get_coefficients(lasso_map)"
   ]
  },
  {
   "cell_type": "markdown",
   "metadata": {},
   "source": [
    "### Ridge and Lasso on Boston dataset"
   ]
  },
  {
   "cell_type": "code",
   "execution_count": 573,
   "metadata": {
    "collapsed": false
   },
   "outputs": [
    {
     "name": "stdout",
     "output_type": "stream",
     "text": [
      "506 13\n"
     ]
    }
   ],
   "source": [
    "from sklearn.datasets import load_boston\n",
    "boston = load_boston()\n",
    "(n, d)= boston.data.shape\n",
    "print (n, d)"
   ]
  },
  {
   "cell_type": "code",
   "execution_count": 595,
   "metadata": {
    "collapsed": false
   },
   "outputs": [],
   "source": [
    "#lasso\n",
    "sigma = 1.0e3\n",
    "b =  np.sqrt(2.0 * sigma2)\n",
    "beta_lasso = pymc.Laplace('beta', mu=0, tau=1.0 * b, size=(d,1))\n",
    "\n",
    "@pymc.deterministic\n",
    "def y_hat_lasso(beta=beta_lasso, x=boston.data):\n",
    "    return np.dot(x, beta).T\n",
    "\n",
    "Y_lasso = pymc.Normal('Y', mu=y_hat_lasso, tau=1.0, value=boston.target, observed=True)\n",
    "lasso_model = pymc.Model([Y_lasso, beta_lasso])\n",
    "lasso_map = pymc.MAP(lasso_model)\n",
    "lasso_map.fit(method='fmin_l_bfgs_b', iterlim=1000, tol=.0001)"
   ]
  },
  {
   "cell_type": "code",
   "execution_count": 575,
   "metadata": {
    "collapsed": false
   },
   "outputs": [
    {
     "data": {
      "text/plain": [
       "array([-0.        ,  0.10985957, -0.        ,  0.        ,  0.        ,\n",
       "        0.        ,  0.07909977,  0.        , -0.        ,  0.00556566,\n",
       "        0.        ,  0.05332189, -0.48125905])"
      ]
     },
     "execution_count": 575,
     "metadata": {},
     "output_type": "execute_result"
    }
   ],
   "source": [
    "skl_lasso_model = LassoCV(fit_intercept=False)\n",
    "skl_lasso_model.fit(boston.data, boston.target)"
   ]
  },
  {
   "cell_type": "code",
   "execution_count": 599,
   "metadata": {
    "collapsed": false
   },
   "outputs": [],
   "source": [
    "#Ridge\n",
    "beta_ridge = pymc.Normal('beta', mu=0, tau=1.0, size=(d,1))\n",
    "\n",
    "@pymc.deterministic\n",
    "def y_hat_ridge(beta=beta_ridge, x=boston.data):\n",
    "    return np.dot(x, beta).T\n",
    "\n",
    "Y_ridge = pymc.Normal('Y', mu=y_hat_ridge, tau=1.0, value=boston.target, observed=True)\n",
    "ridge_model = pymc.Model([Y_ridge, beta_ridge])\n",
    "ridge_map = pymc.MAP(ridge_model)\n",
    "ridge_map.fit(method='fmin_l_bfgs_b', iterlim=1000, tol=.0001)\n"
   ]
  },
  {
   "cell_type": "code",
   "execution_count": 600,
   "metadata": {
    "collapsed": false
   },
   "outputs": [
    {
     "data": {
      "text/plain": [
       "array([-0.09167603,  0.05109077, -0.0128826 ,  2.17031927, -0.27569278,\n",
       "        5.66203246, -0.00571236, -0.92332479,  0.17363205, -0.00999711,\n",
       "       -0.36592389,  0.01526748, -0.44222824])"
      ]
     },
     "execution_count": 600,
     "metadata": {},
     "output_type": "execute_result"
    }
   ],
   "source": [
    "skl_ridge_model = RidgeCV(fit_intercept=False)\n",
    "skl_ridge_model.fit(boston.data, boston.target)\n",
    "skl_ridge_model.coef_"
   ]
  },
  {
   "cell_type": "code",
   "execution_count": 601,
   "metadata": {
    "collapsed": false
   },
   "outputs": [
    {
     "name": "stdout",
     "output_type": "stream",
     "text": [
      "Scikit lasso results\n",
      "Bayesian lasso results\n"
     ]
    },
    {
     "data": {
      "text/plain": [
       "array([ -9.06958078e-02,   4.89279611e-02,   1.81810284e-04,\n",
       "         4.94448158e-01,  -4.29956043e-04,   5.73292063e+00,\n",
       "        -4.54058458e-03,  -8.95827391e-01,   1.83368027e-01,\n",
       "        -1.08034967e-02,  -3.94875862e-01,   1.53232089e-02,\n",
       "        -4.45124800e-01])"
      ]
     },
     "execution_count": 601,
     "metadata": {},
     "output_type": "execute_result"
    }
   ],
   "source": [
    "print (\"Scikit lasso results\")\n",
    "skl_lasso_model.coef_\n",
    "\n",
    "print (\"Bayesian lasso results\")\n",
    "get_coefficients(lasso_map)[0]['beta'][:, 0]"
   ]
  },
  {
   "cell_type": "code",
   "execution_count": 602,
   "metadata": {
    "collapsed": false
   },
   "outputs": [
    {
     "name": "stdout",
     "output_type": "stream",
     "text": [
      "Scikit Ridge results\n",
      "[-0.09167603  0.05109077 -0.0128826   2.17031927 -0.27569278  5.66203246\n",
      " -0.00571236 -0.92332479  0.17363205 -0.00999711 -0.36592389  0.01526748\n",
      " -0.44222824]\n",
      "Bayesian Ridge results\n",
      "[[-0.09120855]\n",
      " [ 0.0491298 ]\n",
      " [-0.01264773]\n",
      " [ 2.74258039]\n",
      " [-1.05110452]\n",
      " [ 5.82607127]\n",
      " [-0.0087232 ]\n",
      " [-0.95247011]\n",
      " [ 0.17202232]\n",
      " [-0.00979164]\n",
      " [-0.38919641]\n",
      " [ 0.01488236]\n",
      " [-0.42646519]]\n"
     ]
    }
   ],
   "source": [
    "print (\"Scikit Ridge results\")\n",
    "print(skl_ridge_model.coef_)\n",
    "\n",
    "print (\"Bayesian Ridge results\")\n",
    "print (get_coefficients(ridge_map)[0]['beta'])"
   ]
  }
 ],
 "metadata": {
  "kernelspec": {
   "display_name": "Python 3",
   "language": "python",
   "name": "python3"
  },
  "language_info": {
   "codemirror_mode": {
    "name": "ipython",
    "version": 3
   },
   "file_extension": ".py",
   "mimetype": "text/x-python",
   "name": "python",
   "nbconvert_exporter": "python",
   "pygments_lexer": "ipython3",
   "version": "3.4.3"
  }
 },
 "nbformat": 4,
 "nbformat_minor": 0
}
