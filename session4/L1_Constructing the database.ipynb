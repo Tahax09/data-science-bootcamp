{
 "cells": [
  {
   "cell_type": "markdown",
   "metadata": {},
   "source": [
    "### Constructing the database"
   ]
  },
  {
   "cell_type": "code",
   "execution_count": 2,
   "metadata": {
    "collapsed": false
   },
   "outputs": [],
   "source": [
    "from pgmpy.factors import TabularCPD"
   ]
  },
  {
   "cell_type": "code",
   "execution_count": 7,
   "metadata": {
    "collapsed": false
   },
   "outputs": [],
   "source": [
    "ez_cpd  = TabularCPD(variable = 'ez',\n",
    "                        variable_card = 2,\n",
    "                        values = [[0.99, 0.35, 0.15, 0.05],\n",
    "                                  [0.01, 0.65, 0.85, 0.95]],\n",
    "                        evidence= ['nb', 'ch'],\n",
    "                        evidence_card=[2, 2])\n",
    "\n",
    "b_cpd  = TabularCPD(variable = 'nb',\n",
    "                        variable_card = 2,\n",
    "                        values = [[0.5, 0.5]])\n",
    "\n",
    "ch_cpd  = TabularCPD(variable = 'ch',\n",
    "                        variable_card = 2,\n",
    "                        values = [[0.5, 0.5]])"
   ]
  },
  {
   "cell_type": "code",
   "execution_count": 8,
   "metadata": {
    "collapsed": true
   },
   "outputs": [],
   "source": [
    "from pgmpy.models import BayesianModel\n",
    "\n",
    "model = BayesianModel([('nb', 'ez'), ('ch', 'ez')])\n",
    "model.add_cpds(ez_cpd, b_cpd, ch_cpd)"
   ]
  },
  {
   "cell_type": "code",
   "execution_count": 9,
   "metadata": {
    "collapsed": true
   },
   "outputs": [],
   "source": [
    "from pgmpy.inference import VariableElimination\n",
    "inf = VariableElimination(model)\n"
   ]
  },
  {
   "cell_type": "code",
   "execution_count": 12,
   "metadata": {
    "collapsed": false
   },
   "outputs": [
    {
     "name": "stdout",
     "output_type": "stream",
     "text": [
      "╒══════╤═══════════╕\n",
      "│ nb   │   phi(nb) │\n",
      "╞══════╪═══════════╡\n",
      "│ nb_0 │    0.0152 │\n",
      "├──────┼───────────┤\n",
      "│ nb_1 │    0.9848 │\n",
      "╘══════╧═══════════╛\n",
      "1 loops, best of 1: 815 µs per loop\n"
     ]
    }
   ],
   "source": [
    "%%timeit -n 1 -r 1\n",
    "p_b = inf.query(variables=['nb'], evidence={'ez': 1, 'ch': 0})\n",
    "print(p_b['nb'])"
   ]
  },
  {
   "cell_type": "markdown",
   "metadata": {
    "collapsed": true
   },
   "source": [
    "### Exercise: Discuss and code extenstions for this model"
   ]
  },
  {
   "cell_type": "code",
   "execution_count": null,
   "metadata": {
    "collapsed": true
   },
   "outputs": [],
   "source": []
  }
 ],
 "metadata": {
  "kernelspec": {
   "display_name": "Python 3",
   "language": "python",
   "name": "python3"
  },
  "language_info": {
   "codemirror_mode": {
    "name": "ipython",
    "version": 3
   },
   "file_extension": ".py",
   "mimetype": "text/x-python",
   "name": "python",
   "nbconvert_exporter": "python",
   "pygments_lexer": "ipython3",
   "version": "3.4.3"
  }
 },
 "nbformat": 4,
 "nbformat_minor": 0
}
